{
 "cells": [
  {
   "cell_type": "code",
   "execution_count": 1,
   "metadata": {},
   "outputs": [],
   "source": [
    "# Classic Wolf-Goat-Cabbage Problem\n",
    "# Game State Representation: [[W,G,C,Y][]] where W = wolf, G = goat, C = cabbage, Y = You, Left Sublist = Left side of Bank, Right Sublist = Right side of Bank\n",
    "\n",
    "# Intial State: [[W,G,C,Y][]]\n",
    "# Goal State: [[][W,G,C,Y]]\n",
    "# Actions: [Move]\n",
    "# Constraints: You Y can only take one object with them on the opposite side of the bank\n",
    "# Prohibited States: W and G cannot be on the same side of the bank without Y\n",
    "# Prohibited States: G and C cannot be on the same side of the bank without Y\n",
    "\n",
    "from copy import deepcopy\n",
    "\n",
    "class Node:\n",
    "    def __init__(self, state, parent):\n",
    "        self.state = state\n",
    "        self.parent = parent\n",
    "        self.children = []\n",
    "\n",
    "    def map_state_to_set(self, state):\n",
    "        return (set(state[0]), set(state[1]) )\n",
    "\n",
    "    def add_child(self, obj):\n",
    "        par = obj.parent\n",
    "        while par != None:\n",
    "            if self.map_state_to_set(obj.state) == self.map_state_to_set(par.state):\n",
    "                return\n",
    "            else:\n",
    "                par = par.parent\n",
    "        self.children.append(obj)\n",
    "\n",
    "class Game:\n",
    "    def __init__(self):\n",
    "        self.current_state = (['W','G','C','Y'],[])\n",
    "        self.history = [self.current_state]\n",
    "        self.next_state = None\n",
    "        self.previous_state = None\n",
    "        self.goal_state = [[],['W','G','C','Y']]\n",
    "        self.root = Node(self.current_state, None)\n",
    "\n",
    "    def __str__(self) -> str:\n",
    "        return str(\"\".join(self.current_state[0]) + \"|\" + \"\".join(self.current_state[1]))\n",
    "\n",
    "    def map_state_to_set(self, state):\n",
    "        return (set(state[0]), set(state[1]) )\n",
    "\n",
    "    def get_history(self) -> str:\n",
    "        # iterate over self.history and create a single string\n",
    "        history = \"\"\n",
    "        for state in self.history:\n",
    "            history += \"\".join(state[0]) + \"|\" + \"\".join(state[1]) + \"-->\"\n",
    "        return history\n",
    "\n",
    "    def state_valid(self):\n",
    "        if \"W\" in self.next_state[0] and \"G\" in self.next_state[0] and \"Y\" not in self.next_state[0]:\n",
    "            return False\n",
    "        if \"W\" in self.next_state[1] and \"G\" in self.next_state[1] and \"Y\" not in self.next_state[1]:\n",
    "            return False\n",
    "        if \"G\" in self.next_state[0] and \"C\" in self.next_state[0] and \"Y\" not in self.next_state[0]:\n",
    "            return False\n",
    "        if \"G\" in self.next_state[1] and \"C\" in self.next_state[1] and \"Y\" not in self.next_state[1]:\n",
    "            return False\n",
    "        return True\n",
    "\n",
    "    def check_move_preconditions(self, side = None, object = None):\n",
    "        if object == \"Y\":\n",
    "            return False\n",
    "        if side == \"left\":\n",
    "            if object is None and \"Y\" in self.current_state[1]:\n",
    "                return True\n",
    "            if object in self.current_state[1] and \"Y\" in self.current_state[1]:\n",
    "                return True\n",
    "        elif side == \"right\":\n",
    "            if object is None and \"Y\" in self.current_state[0]:\n",
    "                return True\n",
    "            if object in self.current_state[0] and \"Y\" in self.current_state[0]:\n",
    "                return True\n",
    "        return False\n",
    "\n",
    "    def move(self, side = None, object = None):\n",
    "        self.next_state = deepcopy(self.current_state)\n",
    "        if side == 'left':\n",
    "            if self.check_move_preconditions(side, object):\n",
    "                if object is not None:\n",
    "                    self.next_state[0].append(object)\n",
    "                    self.next_state[1].remove(object)\n",
    "                self.next_state[0].append(\"Y\")\n",
    "                self.next_state[1].remove(\"Y\")\n",
    "                if self.state_valid():\n",
    "                    self.history.append(self.next_state)\n",
    "                    self.previous_state = self.current_state\n",
    "                    self.current_state = self.next_state\n",
    "                    return True\n",
    "        elif side == 'right':\n",
    "            if self.check_move_preconditions(side, object):\n",
    "                if object is not None:\n",
    "                    self.next_state[1].append(object)\n",
    "                    self.next_state[0].remove(object)\n",
    "                self.next_state[1].append(\"Y\")\n",
    "                self.next_state[0].remove(\"Y\")\n",
    "                if self.state_valid():\n",
    "                    self.history.append(self.next_state)\n",
    "                    self.previous_state = self.current_state\n",
    "                    self.current_state = self.next_state\n",
    "                    return True\n",
    "        return False\n",
    "\n",
    "    def reset_state(self):\n",
    "        self.current_state = self.previous_state\n",
    "\n",
    "    def create_next_states(self, parent, state):\n",
    "        # create all possible next states\n",
    "        # return list of next states\n",
    "        new_obj = Game()\n",
    "        new_obj.current_state = state\n",
    "        for side in ['left', 'right']:\n",
    "            for object in ['W', 'G', 'C', None]:\n",
    "                if new_obj.move(side, object):\n",
    "                    parent.add_child(Node(new_obj.current_state, parent))\n",
    "                    new_obj.reset_state()\n",
    "                    if self.map_state_to_set(new_obj.current_state) == self.map_state_to_set( new_obj.goal_state ):\n",
    "                        return False\n",
    "        return True\n",
    "\n",
    "\n",
    "    def create_tree(self, node):\n",
    "        # create tree such that one state has children to all possible next states\n",
    "        # return root node\n",
    "        while self.create_next_states(node, self.current_state):\n",
    "            for child in node.children:\n",
    "                self.create_next_states(child, child.state)\n",
    "\n",
    "\n",
    "        \n"
   ]
  },
  {
   "cell_type": "code",
   "execution_count": 2,
   "metadata": {},
   "outputs": [
    {
     "ename": "KeyboardInterrupt",
     "evalue": "",
     "output_type": "error",
     "traceback": [
      "\u001b[0;31m---------------------------------------------------------------------------\u001b[0m",
      "\u001b[0;31mKeyboardInterrupt\u001b[0m                         Traceback (most recent call last)",
      "\u001b[1;32m/Users/ramishrasool/Desktop/freelance/saadkhalil07/Astar/test.ipynb Cell 2\u001b[0m in \u001b[0;36m<cell line: 2>\u001b[0;34m()\u001b[0m\n\u001b[1;32m      <a href='vscode-notebook-cell:/Users/ramishrasool/Desktop/freelance/saadkhalil07/Astar/test.ipynb#W3sZmlsZQ%3D%3D?line=0'>1</a>\u001b[0m game \u001b[39m=\u001b[39m Game()\n\u001b[0;32m----> <a href='vscode-notebook-cell:/Users/ramishrasool/Desktop/freelance/saadkhalil07/Astar/test.ipynb#W3sZmlsZQ%3D%3D?line=1'>2</a>\u001b[0m game\u001b[39m.\u001b[39;49mcreate_tree(game\u001b[39m.\u001b[39;49mroot)\n",
      "\u001b[1;32m/Users/ramishrasool/Desktop/freelance/saadkhalil07/Astar/test.ipynb Cell 2\u001b[0m in \u001b[0;36mGame.create_tree\u001b[0;34m(self, node)\u001b[0m\n\u001b[1;32m    <a href='vscode-notebook-cell:/Users/ramishrasool/Desktop/freelance/saadkhalil07/Astar/test.ipynb#W3sZmlsZQ%3D%3D?line=127'>128</a>\u001b[0m \u001b[39mwhile\u001b[39;00m \u001b[39mself\u001b[39m\u001b[39m.\u001b[39mcreate_next_states(node, \u001b[39mself\u001b[39m\u001b[39m.\u001b[39mcurrent_state):\n\u001b[1;32m    <a href='vscode-notebook-cell:/Users/ramishrasool/Desktop/freelance/saadkhalil07/Astar/test.ipynb#W3sZmlsZQ%3D%3D?line=128'>129</a>\u001b[0m     \u001b[39mfor\u001b[39;00m child \u001b[39min\u001b[39;00m node\u001b[39m.\u001b[39mchildren:\n\u001b[0;32m--> <a href='vscode-notebook-cell:/Users/ramishrasool/Desktop/freelance/saadkhalil07/Astar/test.ipynb#W3sZmlsZQ%3D%3D?line=129'>130</a>\u001b[0m         \u001b[39mself\u001b[39;49m\u001b[39m.\u001b[39;49mcreate_next_states(child, child\u001b[39m.\u001b[39;49mstate)\n",
      "\u001b[1;32m/Users/ramishrasool/Desktop/freelance/saadkhalil07/Astar/test.ipynb Cell 2\u001b[0m in \u001b[0;36mGame.create_next_states\u001b[0;34m(self, parent, state)\u001b[0m\n\u001b[1;32m    <a href='vscode-notebook-cell:/Users/ramishrasool/Desktop/freelance/saadkhalil07/Astar/test.ipynb#W3sZmlsZQ%3D%3D?line=114'>115</a>\u001b[0m \u001b[39mfor\u001b[39;00m side \u001b[39min\u001b[39;00m [\u001b[39m'\u001b[39m\u001b[39mleft\u001b[39m\u001b[39m'\u001b[39m, \u001b[39m'\u001b[39m\u001b[39mright\u001b[39m\u001b[39m'\u001b[39m]:\n\u001b[1;32m    <a href='vscode-notebook-cell:/Users/ramishrasool/Desktop/freelance/saadkhalil07/Astar/test.ipynb#W3sZmlsZQ%3D%3D?line=115'>116</a>\u001b[0m     \u001b[39mfor\u001b[39;00m \u001b[39mobject\u001b[39m \u001b[39min\u001b[39;00m [\u001b[39m'\u001b[39m\u001b[39mW\u001b[39m\u001b[39m'\u001b[39m, \u001b[39m'\u001b[39m\u001b[39mG\u001b[39m\u001b[39m'\u001b[39m, \u001b[39m'\u001b[39m\u001b[39mC\u001b[39m\u001b[39m'\u001b[39m, \u001b[39mNone\u001b[39;00m]:\n\u001b[0;32m--> <a href='vscode-notebook-cell:/Users/ramishrasool/Desktop/freelance/saadkhalil07/Astar/test.ipynb#W3sZmlsZQ%3D%3D?line=116'>117</a>\u001b[0m         \u001b[39mif\u001b[39;00m new_obj\u001b[39m.\u001b[39;49mmove(side, \u001b[39mobject\u001b[39;49m):\n\u001b[1;32m    <a href='vscode-notebook-cell:/Users/ramishrasool/Desktop/freelance/saadkhalil07/Astar/test.ipynb#W3sZmlsZQ%3D%3D?line=117'>118</a>\u001b[0m             parent\u001b[39m.\u001b[39madd_child(Node(new_obj\u001b[39m.\u001b[39mcurrent_state, parent))\n\u001b[1;32m    <a href='vscode-notebook-cell:/Users/ramishrasool/Desktop/freelance/saadkhalil07/Astar/test.ipynb#W3sZmlsZQ%3D%3D?line=118'>119</a>\u001b[0m             new_obj\u001b[39m.\u001b[39mreset_state()\n",
      "\u001b[1;32m/Users/ramishrasool/Desktop/freelance/saadkhalil07/Astar/test.ipynb Cell 2\u001b[0m in \u001b[0;36mGame.move\u001b[0;34m(self, side, object)\u001b[0m\n\u001b[1;32m     <a href='vscode-notebook-cell:/Users/ramishrasool/Desktop/freelance/saadkhalil07/Astar/test.ipynb#W3sZmlsZQ%3D%3D?line=78'>79</a>\u001b[0m \u001b[39mdef\u001b[39;00m \u001b[39mmove\u001b[39m(\u001b[39mself\u001b[39m, side \u001b[39m=\u001b[39m \u001b[39mNone\u001b[39;00m, \u001b[39mobject\u001b[39m \u001b[39m=\u001b[39m \u001b[39mNone\u001b[39;00m):\n\u001b[0;32m---> <a href='vscode-notebook-cell:/Users/ramishrasool/Desktop/freelance/saadkhalil07/Astar/test.ipynb#W3sZmlsZQ%3D%3D?line=79'>80</a>\u001b[0m     \u001b[39mself\u001b[39m\u001b[39m.\u001b[39mnext_state \u001b[39m=\u001b[39m deepcopy(\u001b[39mself\u001b[39;49m\u001b[39m.\u001b[39;49mcurrent_state)\n\u001b[1;32m     <a href='vscode-notebook-cell:/Users/ramishrasool/Desktop/freelance/saadkhalil07/Astar/test.ipynb#W3sZmlsZQ%3D%3D?line=80'>81</a>\u001b[0m     \u001b[39mif\u001b[39;00m side \u001b[39m==\u001b[39m \u001b[39m'\u001b[39m\u001b[39mleft\u001b[39m\u001b[39m'\u001b[39m:\n\u001b[1;32m     <a href='vscode-notebook-cell:/Users/ramishrasool/Desktop/freelance/saadkhalil07/Astar/test.ipynb#W3sZmlsZQ%3D%3D?line=81'>82</a>\u001b[0m         \u001b[39mif\u001b[39;00m \u001b[39mself\u001b[39m\u001b[39m.\u001b[39mcheck_move_preconditions(side, \u001b[39mobject\u001b[39m):\n",
      "File \u001b[0;32m/Applications/Xcode.app/Contents/Developer/Library/Frameworks/Python3.framework/Versions/3.8/lib/python3.8/copy.py:146\u001b[0m, in \u001b[0;36mdeepcopy\u001b[0;34m(x, memo, _nil)\u001b[0m\n\u001b[1;32m    144\u001b[0m copier \u001b[39m=\u001b[39m _deepcopy_dispatch\u001b[39m.\u001b[39mget(\u001b[39mcls\u001b[39m)\n\u001b[1;32m    145\u001b[0m \u001b[39mif\u001b[39;00m copier \u001b[39mis\u001b[39;00m \u001b[39mnot\u001b[39;00m \u001b[39mNone\u001b[39;00m:\n\u001b[0;32m--> 146\u001b[0m     y \u001b[39m=\u001b[39m copier(x, memo)\n\u001b[1;32m    147\u001b[0m \u001b[39melse\u001b[39;00m:\n\u001b[1;32m    148\u001b[0m     \u001b[39mif\u001b[39;00m \u001b[39missubclass\u001b[39m(\u001b[39mcls\u001b[39m, \u001b[39mtype\u001b[39m):\n",
      "File \u001b[0;32m/Applications/Xcode.app/Contents/Developer/Library/Frameworks/Python3.framework/Versions/3.8/lib/python3.8/copy.py:210\u001b[0m, in \u001b[0;36m_deepcopy_tuple\u001b[0;34m(x, memo, deepcopy)\u001b[0m\n\u001b[1;32m    209\u001b[0m \u001b[39mdef\u001b[39;00m \u001b[39m_deepcopy_tuple\u001b[39m(x, memo, deepcopy\u001b[39m=\u001b[39mdeepcopy):\n\u001b[0;32m--> 210\u001b[0m     y \u001b[39m=\u001b[39m [deepcopy(a, memo) \u001b[39mfor\u001b[39;00m a \u001b[39min\u001b[39;00m x]\n\u001b[1;32m    211\u001b[0m     \u001b[39m# We're not going to put the tuple in the memo, but it's still important we\u001b[39;00m\n\u001b[1;32m    212\u001b[0m     \u001b[39m# check for it, in case the tuple contains recursive mutable structures.\u001b[39;00m\n\u001b[1;32m    213\u001b[0m     \u001b[39mtry\u001b[39;00m:\n",
      "File \u001b[0;32m/Applications/Xcode.app/Contents/Developer/Library/Frameworks/Python3.framework/Versions/3.8/lib/python3.8/copy.py:210\u001b[0m, in \u001b[0;36m<listcomp>\u001b[0;34m(.0)\u001b[0m\n\u001b[1;32m    209\u001b[0m \u001b[39mdef\u001b[39;00m \u001b[39m_deepcopy_tuple\u001b[39m(x, memo, deepcopy\u001b[39m=\u001b[39mdeepcopy):\n\u001b[0;32m--> 210\u001b[0m     y \u001b[39m=\u001b[39m [deepcopy(a, memo) \u001b[39mfor\u001b[39;00m a \u001b[39min\u001b[39;00m x]\n\u001b[1;32m    211\u001b[0m     \u001b[39m# We're not going to put the tuple in the memo, but it's still important we\u001b[39;00m\n\u001b[1;32m    212\u001b[0m     \u001b[39m# check for it, in case the tuple contains recursive mutable structures.\u001b[39;00m\n\u001b[1;32m    213\u001b[0m     \u001b[39mtry\u001b[39;00m:\n",
      "File \u001b[0;32m/Applications/Xcode.app/Contents/Developer/Library/Frameworks/Python3.framework/Versions/3.8/lib/python3.8/copy.py:146\u001b[0m, in \u001b[0;36mdeepcopy\u001b[0;34m(x, memo, _nil)\u001b[0m\n\u001b[1;32m    144\u001b[0m copier \u001b[39m=\u001b[39m _deepcopy_dispatch\u001b[39m.\u001b[39mget(\u001b[39mcls\u001b[39m)\n\u001b[1;32m    145\u001b[0m \u001b[39mif\u001b[39;00m copier \u001b[39mis\u001b[39;00m \u001b[39mnot\u001b[39;00m \u001b[39mNone\u001b[39;00m:\n\u001b[0;32m--> 146\u001b[0m     y \u001b[39m=\u001b[39m copier(x, memo)\n\u001b[1;32m    147\u001b[0m \u001b[39melse\u001b[39;00m:\n\u001b[1;32m    148\u001b[0m     \u001b[39mif\u001b[39;00m \u001b[39missubclass\u001b[39m(\u001b[39mcls\u001b[39m, \u001b[39mtype\u001b[39m):\n",
      "File \u001b[0;32m/Applications/Xcode.app/Contents/Developer/Library/Frameworks/Python3.framework/Versions/3.8/lib/python3.8/copy.py:204\u001b[0m, in \u001b[0;36m_deepcopy_list\u001b[0;34m(x, memo, deepcopy)\u001b[0m\n\u001b[1;32m    202\u001b[0m memo[\u001b[39mid\u001b[39m(x)] \u001b[39m=\u001b[39m y\n\u001b[1;32m    203\u001b[0m append \u001b[39m=\u001b[39m y\u001b[39m.\u001b[39mappend\n\u001b[0;32m--> 204\u001b[0m \u001b[39mfor\u001b[39;00m a \u001b[39min\u001b[39;00m x:\n\u001b[1;32m    205\u001b[0m     append(deepcopy(a, memo))\n\u001b[1;32m    206\u001b[0m \u001b[39mreturn\u001b[39;00m y\n",
      "\u001b[0;31mKeyboardInterrupt\u001b[0m: "
     ]
    }
   ],
   "source": [
    "game = Game()\n",
    "game.create_tree(game.root)\n",
    "# game.move(\"right\",\"W\")\n",
    "# print(game)\n",
    "# game.move(\"left\",\"G\")\n",
    "# print(game)\n",
    "# game.move(\"right\",\"C\")\n",
    "# print(game)\n",
    "# game.move(\"left\")\n",
    "# print(game)\n",
    "# game.move(\"right\",\"G\")\n",
    "# print(game)\n",
    "# game.get_history()\n"
   ]
  },
  {
   "cell_type": "code",
   "execution_count": 10,
   "metadata": {},
   "outputs": [],
   "source": [
    "n = Node(game.previous_state,None)\n",
    "game.create_next_states(n, game.current_state)"
   ]
  },
  {
   "cell_type": "code",
   "execution_count": 12,
   "metadata": {},
   "outputs": [
    {
     "ename": "AttributeError",
     "evalue": "'tuple' object has no attribute 'state'",
     "output_type": "error",
     "traceback": [
      "\u001b[0;31m---------------------------------------------------------------------------\u001b[0m",
      "\u001b[0;31mAttributeError\u001b[0m                            Traceback (most recent call last)",
      "\u001b[1;32m/Users/ramishrasool/Desktop/freelance/saadkhalil07/Astar/test.ipynb Cell 6\u001b[0m in \u001b[0;36m<cell line: 8>\u001b[0;34m()\u001b[0m\n\u001b[1;32m      <a href='vscode-notebook-cell:/Users/ramishrasool/Desktop/freelance/saadkhalil07/Astar/test.ipynb#W4sZmlsZQ%3D%3D?line=4'>5</a>\u001b[0m     \u001b[39mfor\u001b[39;00m child \u001b[39min\u001b[39;00m node\u001b[39m.\u001b[39mchildren:\n\u001b[1;32m      <a href='vscode-notebook-cell:/Users/ramishrasool/Desktop/freelance/saadkhalil07/Astar/test.ipynb#W4sZmlsZQ%3D%3D?line=5'>6</a>\u001b[0m         print_tree(child, level \u001b[39m+\u001b[39m \u001b[39m1\u001b[39m)\n\u001b[0;32m----> <a href='vscode-notebook-cell:/Users/ramishrasool/Desktop/freelance/saadkhalil07/Astar/test.ipynb#W4sZmlsZQ%3D%3D?line=7'>8</a>\u001b[0m print_tree(game\u001b[39m.\u001b[39;49mcurrent_state)\n",
      "\u001b[1;32m/Users/ramishrasool/Desktop/freelance/saadkhalil07/Astar/test.ipynb Cell 6\u001b[0m in \u001b[0;36mprint_tree\u001b[0;34m(node, level)\u001b[0m\n\u001b[1;32m      <a href='vscode-notebook-cell:/Users/ramishrasool/Desktop/freelance/saadkhalil07/Astar/test.ipynb#W4sZmlsZQ%3D%3D?line=2'>3</a>\u001b[0m \u001b[39mdef\u001b[39;00m \u001b[39mprint_tree\u001b[39m(node, level\u001b[39m=\u001b[39m\u001b[39m0\u001b[39m):\n\u001b[0;32m----> <a href='vscode-notebook-cell:/Users/ramishrasool/Desktop/freelance/saadkhalil07/Astar/test.ipynb#W4sZmlsZQ%3D%3D?line=3'>4</a>\u001b[0m     \u001b[39mprint\u001b[39m(\u001b[39m\"\u001b[39m\u001b[39m    \u001b[39m\u001b[39m\"\u001b[39m \u001b[39m*\u001b[39m level \u001b[39m+\u001b[39m \u001b[39mstr\u001b[39m(node\u001b[39m.\u001b[39;49mstate))\n\u001b[1;32m      <a href='vscode-notebook-cell:/Users/ramishrasool/Desktop/freelance/saadkhalil07/Astar/test.ipynb#W4sZmlsZQ%3D%3D?line=4'>5</a>\u001b[0m     \u001b[39mfor\u001b[39;00m child \u001b[39min\u001b[39;00m node\u001b[39m.\u001b[39mchildren:\n\u001b[1;32m      <a href='vscode-notebook-cell:/Users/ramishrasool/Desktop/freelance/saadkhalil07/Astar/test.ipynb#W4sZmlsZQ%3D%3D?line=5'>6</a>\u001b[0m         print_tree(child, level \u001b[39m+\u001b[39m \u001b[39m1\u001b[39m)\n",
      "\u001b[0;31mAttributeError\u001b[0m: 'tuple' object has no attribute 'state'"
     ]
    }
   ],
   "source": [
    "# pretty print Node with all its children\n",
    "\n",
    "def print_tree(node, level=0):\n",
    "    print(\"    \" * level + str(node.state))\n",
    "    for child in node.children:\n",
    "        print_tree(child, level + 1)\n",
    "\n",
    "print_tree(game.current_state)"
   ]
  },
  {
   "cell_type": "code",
   "execution_count": 66,
   "metadata": {},
   "outputs": [
    {
     "data": {
      "text/plain": [
       "<__main__.Node at 0x107481c70>"
      ]
     },
     "execution_count": 66,
     "metadata": {},
     "output_type": "execute_result"
    }
   ],
   "source": [
    "parent.children[0]"
   ]
  },
  {
   "cell_type": "code",
   "execution_count": 191,
   "metadata": {},
   "outputs": [
    {
     "data": {
      "text/plain": [
       "({'C', 'W'}, {'G', 'Y'})"
      ]
     },
     "execution_count": 191,
     "metadata": {},
     "output_type": "execute_result"
    }
   ],
   "source": [
    "# set(game.current_state)\n",
    "game.current_state\n",
    "game.move(\"right\", \"G\")\n",
    "tuple(map( lambda x: set(x), game.current_state ))"
   ]
  }
 ],
 "metadata": {
  "kernelspec": {
   "display_name": "Python 3.8.9 64-bit",
   "language": "python",
   "name": "python3"
  },
  "language_info": {
   "codemirror_mode": {
    "name": "ipython",
    "version": 3
   },
   "file_extension": ".py",
   "mimetype": "text/x-python",
   "name": "python",
   "nbconvert_exporter": "python",
   "pygments_lexer": "ipython3",
   "version": "3.8.9"
  },
  "orig_nbformat": 4,
  "vscode": {
   "interpreter": {
    "hash": "31f2aee4e71d21fbe5cf8b01ff0e069b9275f58929596ceb00d14d90e3e16cd6"
   }
  }
 },
 "nbformat": 4,
 "nbformat_minor": 2
}
